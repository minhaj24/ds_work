{
 "cells": [
  {
   "cell_type": "markdown",
   "metadata": {},
   "source": [
    "## Create Conda Environments"
   ]
  },
  {
   "cell_type": "markdown",
   "metadata": {},
   "source": [
    ".Install mini conda\n",
    "\n"
   ]
  },
  {
   "cell_type": "markdown",
   "metadata": {},
   "source": [
    ".Open conda promt"
   ]
  },
  {
   "cell_type": "markdown",
   "metadata": {},
   "source": [
    "### List of commands"
   ]
  },
  {
   "cell_type": "markdown",
   "metadata": {},
   "source": [
    ".conda env list ................(to check list of environments already created)"
   ]
  },
  {
   "cell_type": "markdown",
   "metadata": {},
   "source": [
    ".conda list ..............(to check list of packages)"
   ]
  },
  {
   "cell_type": "markdown",
   "metadata": {},
   "source": [
    ".conda info ............(check about conda version and stuff)"
   ]
  },
  {
   "cell_type": "markdown",
   "metadata": {},
   "source": [
    ".conda update conda .......(to update conda if new version available)"
   ]
  },
  {
   "cell_type": "markdown",
   "metadata": {},
   "source": [
    ".conda install python ........(to install any(package) in this case python)"
   ]
  },
  {
   "cell_type": "markdown",
   "metadata": {},
   "source": [
    ".conda update python .......(updates a package)\n"
   ]
  },
  {
   "cell_type": "markdown",
   "metadata": {},
   "source": [
    ".conda update --help ............(help is for explaining about the command)"
   ]
  },
  {
   "cell_type": "markdown",
   "metadata": {},
   "source": [
    ".conda create -n pipeline_env ...........(creats new environment)"
   ]
  },
  {
   "cell_type": "markdown",
   "metadata": {},
   "source": [
    ".conda activate pipeline_env ..........(to activate an environment)"
   ]
  },
  {
   "cell_type": "markdown",
   "metadata": {},
   "source": [
    "### inside new env"
   ]
  },
  {
   "cell_type": "markdown",
   "metadata": {},
   "source": [
    ".conda list ..........(check packages)"
   ]
  },
  {
   "cell_type": "markdown",
   "metadata": {},
   "source": [
    ".conda install python .....(to install package in the new env and all its dependencies)"
   ]
  },
  {
   "cell_type": "markdown",
   "metadata": {},
   "source": [
    ".pip install pandas matplotlib scikit numpy (etc and stuff (installing diff libs))"
   ]
  },
  {
   "cell_type": "markdown",
   "metadata": {},
   "source": [
    "..............Arrangement of libraries is imp bcs some are dependent on others.\n"
   ]
  },
  {
   "cell_type": "markdown",
   "metadata": {},
   "source": [
    "............like which one to name fisrt and which one later in the command"
   ]
  },
  {
   "cell_type": "markdown",
   "metadata": {},
   "source": [
    ".......you can create new env with **creating env with a specific version**  the libraries or with a specific version of a lib/package. see below EG "
   ]
  },
  {
   "cell_type": "markdown",
   "metadata": {},
   "source": [
    ".conda create -n \"myenv\" python=3.3.0"
   ]
  },
  {
   "cell_type": "markdown",
   "metadata": {},
   "source": [
    ".conda create -n test_env python=3.8 .....(worked on my pc)"
   ]
  },
  {
   "cell_type": "markdown",
   "metadata": {},
   "source": [
    ".conda deactivate .......(to exit environment and return to base)"
   ]
  },
  {
   "cell_type": "markdown",
   "metadata": {},
   "source": [
    "## Playing with envs"
   ]
  },
  {
   "cell_type": "markdown",
   "metadata": {},
   "source": [
    "Questions:"
   ]
  },
  {
   "cell_type": "markdown",
   "metadata": {},
   "source": [
    "If we install (numpy) in base and change python kernel to base in ipynb?? "
   ]
  },
  {
   "cell_type": "markdown",
   "metadata": {},
   "source": [
    "do we install the libs(numpy again for the notebook) or it will pick from base ?"
   ]
  },
  {
   "cell_type": "markdown",
   "metadata": {},
   "source": [
    "will that allow to every cell ? or do we change envs on every cell how does it work ?"
   ]
  }
 ],
 "metadata": {
  "kernelspec": {
   "display_name": "Python 3.11.0 64-bit",
   "language": "python",
   "name": "python3"
  },
  "language_info": {
   "name": "python",
   "version": "3.11.0"
  },
  "orig_nbformat": 4,
  "vscode": {
   "interpreter": {
    "hash": "6f6eec5074443f2d227b4b859f59d8684b51412fa5de852504ae2f88a382efdb"
   }
  }
 },
 "nbformat": 4,
 "nbformat_minor": 2
}
